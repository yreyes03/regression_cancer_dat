{
 "cells": [
  {
   "cell_type": "markdown",
   "id": "a8e66ad5-efe8-4095-89b9-4a3c44a915b1",
   "metadata": {},
   "source": [
    "# Data Wrangling Homework"
   ]
  },
  {
   "cell_type": "markdown",
   "id": "a68b6cdf-cc08-451c-b93b-6f3aeea27dc3",
   "metadata": {},
   "source": [
    "In the spirit of warming up for final projects, this weeks homework will be somewhat open-ended. Actually, it will more like closed-ended and open-middled...\n",
    "\n",
    "Different doctors with different backgrounds, trained in different places, etc., might behave differently. In other words, one doctor might have various biases relative to another. We hope not, at least in critical situations, but doctors are people too.\n",
    "\n",
    "Your job is to determine whether the 4 doctors in our data set are behaving essentially the same with respect to measuring clump thickness, bland chromatin, and diagnosis of tumor type, or whether any one of them seems to be different. "
   ]
  },
  {
   "cell_type": "markdown",
   "id": "090694da-100c-419a-8c00-3e0fbb5767fd",
   "metadata": {
    "tags": []
   },
   "source": [
    "The submission should be a pdf that makes your case as though to a boss/hospital administrator; it should make the case in enough detail to be convincing, but not in such detail that your boss will hate you. For example, one doctor-to-doctor comparison can be described in some detail, but the rest can be summarized with \"Similar comparisons were made for ...\""
   ]
  },
  {
   "cell_type": "markdown",
   "id": "011d2f30-1731-4503-855f-46218d71ae33",
   "metadata": {},
   "source": [
    "Your final conclusion should be whether 1) everything seems okay with respect to the doctors or 2) if there are any red flags that might warrent further scrutiny."
   ]
  },
  {
   "cell_type": "markdown",
   "id": "3e575de6-2ef9-48c1-b8eb-fec7755c5e3d",
   "metadata": {},
   "source": [
    "Do the analysis with an open mind. It's not good to enter an analysis with a pre-conceived notion of what you may or may not find."
   ]
  },
  {
   "cell_type": "code",
   "execution_count": 41,
   "id": "8b191b0c-ca59-45d8-9c2b-a3cdba1696e6",
   "metadata": {
    "tags": []
   },
   "outputs": [],
   "source": [
    "import pandas as pd\n",
    "import numpy as np\n",
    "import matplotlib.pyplot as plt\n",
    "import seaborn as sns"
   ]
  },
  {
   "cell_type": "markdown",
   "id": "2de6f052-7e90-46e2-a49f-2ed13fb70b79",
   "metadata": {},
   "source": [
    "### Below data is selected and cleaned."
   ]
  },
  {
   "cell_type": "code",
   "execution_count": 11,
   "id": "fb18bcf1-0093-4fbd-98f9-3bf147076c0d",
   "metadata": {
    "tags": []
   },
   "outputs": [],
   "source": [
    "### Function to clean data\n",
    "def hit_reset():\n",
    "    import pandas as pd\n",
    "    \n",
    "    bcd = pd.read_csv('./data/breast_cancer_data.csv')      ###loading data\n",
    "    bcd['patient_id'] = bcd['patient_id'].astype('string')    #changing ID to string\n",
    "    bcd['doctor_name'] = bcd['doctor_name'].str.split('. ').str[1]    #only leaving surnames\n",
    "    bcd['bare_nuclei'] = bcd['bare_nuclei'].replace('?', '')     #replacing ? with blank spacr\n",
    "    bcd['bare_nuclei'] = pd.to_numeric(bcd['bare_nuclei'])     #changing bare_nuclei to numeric\n",
    "    \n",
    "    return bcd"
   ]
  },
  {
   "cell_type": "code",
   "execution_count": 68,
   "id": "e5389305-4d48-4e2b-9743-1897c68f76be",
   "metadata": {
    "tags": []
   },
   "outputs": [],
   "source": [
    "#Reading data and selesting needed columns \n",
    "bcd = pd.read_csv('data/breast_cancer_data.csv')\n",
    "bcd = hit_reset()\n",
    "bcd = bcd[['clump_thickness', 'bland_chromatin', 'class', 'doctor_name']].copy()"
   ]
  },
  {
   "cell_type": "code",
   "execution_count": 67,
   "id": "0e562c26-cf36-4376-9ef2-7cb0ac1cfce2",
   "metadata": {
    "tags": []
   },
   "outputs": [],
   "source": [
    "# Creating data frames for each doctor\n",
    "doe_dat = bcd[bcd['doctor_name'] == 'Doe']\n",
    "smith_dat = bcd[bcd['doctor_name'] == 'Smith']\n",
    "lee_dat = bcd[bcd['doctor_name'] == 'Lee']\n",
    "wong_dat = bcd[bcd['doctor_name'] == 'Wong']"
   ]
  },
  {
   "cell_type": "code",
   "execution_count": null,
   "id": "5f522835-6520-4e09-b3a3-6bfc11a59be9",
   "metadata": {},
   "outputs": [],
   "source": [
    "# Created dataframes with means of measurements for each doctor\n",
    "doe_means = doe_dat.groupby('class').mean(numeric_only = True)\n",
    "smith_means = smith_dat.groupby('class').mean(numeric_only = True)\n",
    "lee_means = lee_dat.groupby('class').mean(numeric_only = True)\n",
    "wong_means = wong_dat.groupby('class').mean(numeric_only = True)"
   ]
  },
  {
   "cell_type": "markdown",
   "id": "b9fc7d53-1fee-4ce9-a3f5-cdb9427e752c",
   "metadata": {},
   "source": [
    "### Below different tables are created to show measurements and count for variables by doctor."
   ]
  },
  {
   "cell_type": "code",
   "execution_count": 152,
   "id": "04fdd567-71fe-4c88-b8c0-2532bc291309",
   "metadata": {
    "tags": []
   },
   "outputs": [
    {
     "data": {
      "text/html": [
       "<div>\n",
       "<style scoped>\n",
       "    .dataframe tbody tr th:only-of-type {\n",
       "        vertical-align: middle;\n",
       "    }\n",
       "\n",
       "    .dataframe tbody tr th {\n",
       "        vertical-align: top;\n",
       "    }\n",
       "\n",
       "    .dataframe thead th {\n",
       "        text-align: right;\n",
       "    }\n",
       "</style>\n",
       "<table border=\"1\" class=\"dataframe\">\n",
       "  <thead>\n",
       "    <tr style=\"text-align: right;\">\n",
       "      <th>class</th>\n",
       "      <th>benign</th>\n",
       "      <th>malignant</th>\n",
       "    </tr>\n",
       "    <tr>\n",
       "      <th>doctor_name</th>\n",
       "      <th></th>\n",
       "      <th></th>\n",
       "    </tr>\n",
       "  </thead>\n",
       "  <tbody>\n",
       "    <tr>\n",
       "      <th>Doe</th>\n",
       "      <td>2.000000</td>\n",
       "      <td>5.456140</td>\n",
       "    </tr>\n",
       "    <tr>\n",
       "      <th>Lee</th>\n",
       "      <td>2.067227</td>\n",
       "      <td>6.150000</td>\n",
       "    </tr>\n",
       "    <tr>\n",
       "      <th>Smith</th>\n",
       "      <td>1.980392</td>\n",
       "      <td>6.459459</td>\n",
       "    </tr>\n",
       "    <tr>\n",
       "      <th>Wong</th>\n",
       "      <td>2.388889</td>\n",
       "      <td>5.714286</td>\n",
       "    </tr>\n",
       "  </tbody>\n",
       "</table>\n",
       "</div>"
      ],
      "text/plain": [
       "class          benign  malignant\n",
       "doctor_name                     \n",
       "Doe          2.000000   5.456140\n",
       "Lee          2.067227   6.150000\n",
       "Smith        1.980392   6.459459\n",
       "Wong         2.388889   5.714286"
      ]
     },
     "execution_count": 152,
     "metadata": {},
     "output_type": "execute_result"
    }
   ],
   "source": [
    "# Created small table to compare means of bland_chromatin by doctor\n",
    "chr_tab = bcd.pivot_table(index = 'doctor_name', columns = 'class', values = 'bland_chromatin')\n",
    "chr_tab"
   ]
  },
  {
   "cell_type": "code",
   "execution_count": 151,
   "id": "8e8428fe-cd5a-4348-9126-25c981862363",
   "metadata": {
    "tags": []
   },
   "outputs": [
    {
     "data": {
      "text/html": [
       "<div>\n",
       "<style scoped>\n",
       "    .dataframe tbody tr th:only-of-type {\n",
       "        vertical-align: middle;\n",
       "    }\n",
       "\n",
       "    .dataframe tbody tr th {\n",
       "        vertical-align: top;\n",
       "    }\n",
       "\n",
       "    .dataframe thead th {\n",
       "        text-align: right;\n",
       "    }\n",
       "</style>\n",
       "<table border=\"1\" class=\"dataframe\">\n",
       "  <thead>\n",
       "    <tr style=\"text-align: right;\">\n",
       "      <th>class</th>\n",
       "      <th>benign</th>\n",
       "      <th>malignant</th>\n",
       "    </tr>\n",
       "    <tr>\n",
       "      <th>doctor_name</th>\n",
       "      <th></th>\n",
       "      <th></th>\n",
       "    </tr>\n",
       "  </thead>\n",
       "  <tbody>\n",
       "    <tr>\n",
       "      <th>Doe</th>\n",
       "      <td>2.637795</td>\n",
       "      <td>7.586207</td>\n",
       "    </tr>\n",
       "    <tr>\n",
       "      <th>Lee</th>\n",
       "      <td>2.983471</td>\n",
       "      <td>6.600000</td>\n",
       "    </tr>\n",
       "    <tr>\n",
       "      <th>Smith</th>\n",
       "      <td>3.098039</td>\n",
       "      <td>7.356164</td>\n",
       "    </tr>\n",
       "    <tr>\n",
       "      <th>Wong</th>\n",
       "      <td>3.166667</td>\n",
       "      <td>7.265306</td>\n",
       "    </tr>\n",
       "  </tbody>\n",
       "</table>\n",
       "</div>"
      ],
      "text/plain": [
       "class          benign  malignant\n",
       "doctor_name                     \n",
       "Doe          2.637795   7.586207\n",
       "Lee          2.983471   6.600000\n",
       "Smith        3.098039   7.356164\n",
       "Wong         3.166667   7.265306"
      ]
     },
     "execution_count": 151,
     "metadata": {},
     "output_type": "execute_result"
    }
   ],
   "source": [
    "# Created small table to compare means of clump_thickness by doctor\n",
    "thi_tab = bcd.pivot_table(index = 'doctor_name', columns = 'class', values = 'clump_thickness')\n",
    "thi_tab"
   ]
  },
  {
   "cell_type": "code",
   "execution_count": 175,
   "id": "c20c2fde-6131-4f5a-95c6-fc87d75b211e",
   "metadata": {
    "tags": []
   },
   "outputs": [
    {
     "data": {
      "text/html": [
       "<div>\n",
       "<style scoped>\n",
       "    .dataframe tbody tr th:only-of-type {\n",
       "        vertical-align: middle;\n",
       "    }\n",
       "\n",
       "    .dataframe tbody tr th {\n",
       "        vertical-align: top;\n",
       "    }\n",
       "\n",
       "    .dataframe thead tr th {\n",
       "        text-align: left;\n",
       "    }\n",
       "\n",
       "    .dataframe thead tr:last-of-type th {\n",
       "        text-align: right;\n",
       "    }\n",
       "</style>\n",
       "<table border=\"1\" class=\"dataframe\">\n",
       "  <thead>\n",
       "    <tr>\n",
       "      <th></th>\n",
       "      <th colspan=\"2\" halign=\"left\">class</th>\n",
       "    </tr>\n",
       "    <tr>\n",
       "      <th>class</th>\n",
       "      <th>benign</th>\n",
       "      <th>malignant</th>\n",
       "    </tr>\n",
       "    <tr>\n",
       "      <th>doctor_name</th>\n",
       "      <th></th>\n",
       "      <th></th>\n",
       "    </tr>\n",
       "  </thead>\n",
       "  <tbody>\n",
       "    <tr>\n",
       "      <th>Doe</th>\n",
       "      <td>127</td>\n",
       "      <td>58</td>\n",
       "    </tr>\n",
       "    <tr>\n",
       "      <th>Lee</th>\n",
       "      <td>121</td>\n",
       "      <td>60</td>\n",
       "    </tr>\n",
       "    <tr>\n",
       "      <th>Smith</th>\n",
       "      <td>102</td>\n",
       "      <td>74</td>\n",
       "    </tr>\n",
       "    <tr>\n",
       "      <th>Wong</th>\n",
       "      <td>108</td>\n",
       "      <td>49</td>\n",
       "    </tr>\n",
       "  </tbody>\n",
       "</table>\n",
       "</div>"
      ],
      "text/plain": [
       "             class          \n",
       "class       benign malignant\n",
       "doctor_name                 \n",
       "Doe            127        58\n",
       "Lee            121        60\n",
       "Smith          102        74\n",
       "Wong           108        49"
      ]
     },
     "execution_count": 175,
     "metadata": {},
     "output_type": "execute_result"
    }
   ],
   "source": [
    "# Created table to compare number of benign vs malignant by doctor\n",
    "bcd[['doctor_name', 'class']].pivot_table(index = 'doctor_name', columns = bcd['class'], aggfunc = 'count')"
   ]
  },
  {
   "cell_type": "code",
   "execution_count": 201,
   "id": "3540feab-65a7-47b0-b495-96a5f764fe2d",
   "metadata": {
    "tags": []
   },
   "outputs": [
    {
     "data": {
      "text/html": [
       "<div>\n",
       "<style scoped>\n",
       "    .dataframe tbody tr th:only-of-type {\n",
       "        vertical-align: middle;\n",
       "    }\n",
       "\n",
       "    .dataframe tbody tr th {\n",
       "        vertical-align: top;\n",
       "    }\n",
       "\n",
       "    .dataframe thead th {\n",
       "        text-align: right;\n",
       "    }\n",
       "</style>\n",
       "<table border=\"1\" class=\"dataframe\">\n",
       "  <thead>\n",
       "    <tr style=\"text-align: right;\">\n",
       "      <th></th>\n",
       "      <th>doctor</th>\n",
       "      <th>class</th>\n",
       "      <th>count</th>\n",
       "    </tr>\n",
       "  </thead>\n",
       "  <tbody>\n",
       "    <tr>\n",
       "      <th>0</th>\n",
       "      <td>Doe</td>\n",
       "      <td>benign</td>\n",
       "      <td>127</td>\n",
       "    </tr>\n",
       "    <tr>\n",
       "      <th>1</th>\n",
       "      <td>Doe</td>\n",
       "      <td>malignant</td>\n",
       "      <td>58</td>\n",
       "    </tr>\n",
       "    <tr>\n",
       "      <th>2</th>\n",
       "      <td>Smith</td>\n",
       "      <td>benign</td>\n",
       "      <td>121</td>\n",
       "    </tr>\n",
       "    <tr>\n",
       "      <th>3</th>\n",
       "      <td>Smith</td>\n",
       "      <td>malignant</td>\n",
       "      <td>60</td>\n",
       "    </tr>\n",
       "    <tr>\n",
       "      <th>4</th>\n",
       "      <td>Lee</td>\n",
       "      <td>benign</td>\n",
       "      <td>102</td>\n",
       "    </tr>\n",
       "    <tr>\n",
       "      <th>5</th>\n",
       "      <td>Lee</td>\n",
       "      <td>malignant</td>\n",
       "      <td>74</td>\n",
       "    </tr>\n",
       "    <tr>\n",
       "      <th>6</th>\n",
       "      <td>Wong</td>\n",
       "      <td>benign</td>\n",
       "      <td>108</td>\n",
       "    </tr>\n",
       "    <tr>\n",
       "      <th>7</th>\n",
       "      <td>Wong</td>\n",
       "      <td>malignant</td>\n",
       "      <td>49</td>\n",
       "    </tr>\n",
       "  </tbody>\n",
       "</table>\n",
       "</div>"
      ],
      "text/plain": [
       "  doctor      class  count\n",
       "0    Doe     benign    127\n",
       "1    Doe  malignant     58\n",
       "2  Smith     benign    121\n",
       "3  Smith  malignant     60\n",
       "4    Lee     benign    102\n",
       "5    Lee  malignant     74\n",
       "6   Wong     benign    108\n",
       "7   Wong  malignant     49"
      ]
     },
     "execution_count": 201,
     "metadata": {},
     "output_type": "execute_result"
    }
   ],
   "source": [
    "ct_dic = {'doctor': ['Doe', 'Doe', 'Smith', 'Smith', 'Lee', 'Lee', 'Wong', 'Wong'], \n",
    "          'class':['benign','malignant','benign','malignant','benign','malignant','benign','malignant'], \n",
    "          'count':[127,58,121,60,102,74,108,49]}\n",
    "ct_dat = pd.DataFrame(ct_dic)\n",
    "ct_dat"
   ]
  },
  {
   "cell_type": "code",
   "execution_count": 205,
   "id": "ee2bb962-8b2e-40bc-9b02-0597d4916585",
   "metadata": {
    "tags": []
   },
   "outputs": [
    {
     "data": {
      "text/html": [
       "<div>\n",
       "<style scoped>\n",
       "    .dataframe tbody tr th:only-of-type {\n",
       "        vertical-align: middle;\n",
       "    }\n",
       "\n",
       "    .dataframe tbody tr th {\n",
       "        vertical-align: top;\n",
       "    }\n",
       "\n",
       "    .dataframe thead th {\n",
       "        text-align: right;\n",
       "    }\n",
       "</style>\n",
       "<table border=\"1\" class=\"dataframe\">\n",
       "  <thead>\n",
       "    <tr style=\"text-align: right;\">\n",
       "      <th></th>\n",
       "      <th>doctor</th>\n",
       "      <th>prob</th>\n",
       "    </tr>\n",
       "  </thead>\n",
       "  <tbody>\n",
       "    <tr>\n",
       "      <th>0</th>\n",
       "      <td>Doe</td>\n",
       "      <td>0.313514</td>\n",
       "    </tr>\n",
       "    <tr>\n",
       "      <th>1</th>\n",
       "      <td>Smith</td>\n",
       "      <td>0.331492</td>\n",
       "    </tr>\n",
       "    <tr>\n",
       "      <th>2</th>\n",
       "      <td>Lee</td>\n",
       "      <td>0.420455</td>\n",
       "    </tr>\n",
       "    <tr>\n",
       "      <th>3</th>\n",
       "      <td>Wong</td>\n",
       "      <td>0.312102</td>\n",
       "    </tr>\n",
       "  </tbody>\n",
       "</table>\n",
       "</div>"
      ],
      "text/plain": [
       "  doctor      prob\n",
       "0    Doe  0.313514\n",
       "1  Smith  0.331492\n",
       "2    Lee  0.420455\n",
       "3   Wong  0.312102"
      ]
     },
     "execution_count": 205,
     "metadata": {},
     "output_type": "execute_result"
    }
   ],
   "source": [
    "pr_dic = {'doctor':['Doe','Smith','Lee','Wong'],\n",
    "          'prob':[(58/(127+58)), (60/(121+60)), (74/(102+74)), (49/(108+49))]}\n",
    "pr_dat = pd.DataFrame(pr_dic)\n",
    "pr_dat"
   ]
  },
  {
   "cell_type": "markdown",
   "id": "56b61be5-35de-4f14-8228-f8cf75a1f65a",
   "metadata": {},
   "source": [
    "### Below data is plotted to easily visualize differences in measurements and diagnoses by doctor."
   ]
  },
  {
   "cell_type": "code",
   "execution_count": 245,
   "id": "47caf192-1b24-41da-a568-8ccf1adfd8d5",
   "metadata": {
    "tags": []
   },
   "outputs": [
    {
     "data": {
      "image/png": "[encoded data removed]",
      "text/plain": [
       "<Figure size 1000x700 with 4 Axes>"
      ]
     },
     "metadata": {},
     "output_type": "display_data"
    }
   ],
   "source": [
    "fig = plt.figure(figsize = (10,7), facecolor = 'mistyrose')\n",
    "fig.suptitle('Measurements and Diagnoses by Doctor', size = 20)\n",
    "\n",
    "plt.subplot(2,2,1)\n",
    "sns.boxplot(bcd, x = 'doctor_name', y = 'bland_chromatin', hue = 'class', width = .5)\n",
    "plt.legend(loc = 'upper right')\n",
    "plt.title('Measurements for Bland Chromatin')\n",
    "plt.ylabel('Bland Chromatin Measurement')\n",
    "plt.xlabel('Doctor')\n",
    "#plt.xticks(color = 'maroon')\n",
    "\n",
    "plt.subplot(2,2,2)\n",
    "sns.boxplot(bcd, x = 'doctor_name', y = 'clump_thickness', hue = 'class', width = .5)\n",
    "plt.legend(loc = 'upper right')\n",
    "plt.title('Measurements for Clump Thickness')\n",
    "plt.ylabel('Clump Thickness Measurement')\n",
    "plt.xlabel('Doctor')\n",
    "\n",
    "plt.subplot(2,2,3)\n",
    "sns.barplot(ct_dat, x = 'doctor', y = 'count', hue = 'class', edgecolor = 'k')\n",
    "plt.title('Number of Benign vs Malignant Diagnoses')\n",
    "plt.ylabel('Count')\n",
    "plt.xlabel('Doctor')\n",
    "\n",
    "plt.subplot(2,2,4)\n",
    "sns.barplot(pr_dat, x = 'doctor', y = 'prob', edgecolor = 'k')\n",
    "plt.title('Probability of Diagnosing Malignent')\n",
    "plt.ylabel('Probability')\n",
    "plt.xlabel('Doctor')\n",
    "\n",
    "plt.subplots_adjust(wspace = .3, hspace = .5)\n",
    "#plt.tight_layout();"
   ]
  },
  {
   "cell_type": "code",
   "execution_count": 130,
   "id": "7ece4080-9a18-4e0a-81ff-6ca9a81142f3",
   "metadata": {
    "tags": []
   },
   "outputs": [],
   "source": []
  },
  {
   "cell_type": "code",
   "execution_count": 315,
   "id": "4aab991c-8bb3-4eed-a0f5-c8eecaf70b8a",
   "metadata": {
    "tags": []
   },
   "outputs": [
    {
     "data": {
      "text/html": [
       "<table class=\"simpletable\">\n",
       "<caption>OLS Regression Results</caption>\n",
       "<tr>\n",
       "  <th>Dep. Variable:</th>     <td>bland_chromatin</td> <th>  R-squared:         </th> <td>   0.013</td>\n",
       "</tr>\n",
       "<tr>\n",
       "  <th>Model:</th>                   <td>OLS</td>       <th>  Adj. R-squared:    </th> <td>   0.009</td>\n",
       "</tr>\n",
       "<tr>\n",
       "  <th>Method:</th>             <td>Least Squares</td>  <th>  F-statistic:       </th> <td>   3.148</td>\n",
       "</tr>\n",
       "<tr>\n",
       "  <th>Date:</th>             <td>Wed, 28 Feb 2024</td> <th>  Prob (F-statistic):</th>  <td>0.0246</td> \n",
       "</tr>\n",
       "<tr>\n",
       "  <th>Time:</th>                 <td>17:38:23</td>     <th>  Log-Likelihood:    </th> <td> -1601.2</td>\n",
       "</tr>\n",
       "<tr>\n",
       "  <th>No. Observations:</th>      <td>   695</td>      <th>  AIC:               </th> <td>   3210.</td>\n",
       "</tr>\n",
       "<tr>\n",
       "  <th>Df Residuals:</th>          <td>   691</td>      <th>  BIC:               </th> <td>   3229.</td>\n",
       "</tr>\n",
       "<tr>\n",
       "  <th>Df Model:</th>              <td>     3</td>      <th>                     </th>     <td> </td>   \n",
       "</tr>\n",
       "<tr>\n",
       "  <th>Covariance Type:</th>      <td>nonrobust</td>    <th>                     </th>     <td> </td>   \n",
       "</tr>\n",
       "</table>\n",
       "<table class=\"simpletable\">\n",
       "<tr>\n",
       "             <td></td>                <th>coef</th>     <th>std err</th>      <th>t</th>      <th>P>|t|</th>  <th>[0.025</th>    <th>0.975]</th>  \n",
       "</tr>\n",
       "<tr>\n",
       "  <th>Intercept</th>               <td>    3.0765</td> <td>    0.180</td> <td>   17.127</td> <td> 0.000</td> <td>    2.724</td> <td>    3.429</td>\n",
       "</tr>\n",
       "<tr>\n",
       "  <th>C(doctor_name)[T.Lee]</th>   <td>    0.3593</td> <td>    0.255</td> <td>    1.406</td> <td> 0.160</td> <td>   -0.142</td> <td>    0.861</td>\n",
       "</tr>\n",
       "<tr>\n",
       "  <th>C(doctor_name)[T.Smith]</th> <td>    0.7871</td> <td>    0.257</td> <td>    3.068</td> <td> 0.002</td> <td>    0.283</td> <td>    1.291</td>\n",
       "</tr>\n",
       "<tr>\n",
       "  <th>C(doctor_name)[T.Wong]</th>  <td>    0.3502</td> <td>    0.264</td> <td>    1.325</td> <td> 0.186</td> <td>   -0.169</td> <td>    0.869</td>\n",
       "</tr>\n",
       "</table>\n",
       "<table class=\"simpletable\">\n",
       "<tr>\n",
       "  <th>Omnibus:</th>       <td>91.695</td> <th>  Durbin-Watson:     </th> <td>   1.656</td>\n",
       "</tr>\n",
       "<tr>\n",
       "  <th>Prob(Omnibus):</th> <td> 0.000</td> <th>  Jarque-Bera (JB):  </th> <td> 128.389</td>\n",
       "</tr>\n",
       "<tr>\n",
       "  <th>Skew:</th>          <td> 1.051</td> <th>  Prob(JB):          </th> <td>1.32e-28</td>\n",
       "</tr>\n",
       "<tr>\n",
       "  <th>Kurtosis:</th>      <td> 3.112</td> <th>  Cond. No.          </th> <td>    4.69</td>\n",
       "</tr>\n",
       "</table><br/><br/>Notes:<br/>[1] Standard Errors assume that the covariance matrix of the errors is correctly specified."
      ],
      "text/latex": [
       "\\begin{center}\n",
       "\\begin{tabular}{lclc}\n",
       "\\toprule\n",
       "\\textbf{Dep. Variable:}           & bland\\_chromatin & \\textbf{  R-squared:         } &     0.013   \\\\\n",
       "\\textbf{Model:}                   &       OLS        & \\textbf{  Adj. R-squared:    } &     0.009   \\\\\n",
       "\\textbf{Method:}                  &  Least Squares   & \\textbf{  F-statistic:       } &     3.148   \\\\\n",
       "\\textbf{Date:}                    & Wed, 28 Feb 2024 & \\textbf{  Prob (F-statistic):} &   0.0246    \\\\\n",
       "\\textbf{Time:}                    &     17:38:23     & \\textbf{  Log-Likelihood:    } &   -1601.2   \\\\\n",
       "\\textbf{No. Observations:}        &         695      & \\textbf{  AIC:               } &     3210.   \\\\\n",
       "\\textbf{Df Residuals:}            &         691      & \\textbf{  BIC:               } &     3229.   \\\\\n",
       "\\textbf{Df Model:}                &           3      & \\textbf{                     } &             \\\\\n",
       "\\textbf{Covariance Type:}         &    nonrobust     & \\textbf{                     } &             \\\\\n",
       "\\bottomrule\n",
       "\\end{tabular}\n",
       "\\begin{tabular}{lcccccc}\n",
       "                                  & \\textbf{coef} & \\textbf{std err} & \\textbf{t} & \\textbf{P$> |$t$|$} & \\textbf{[0.025} & \\textbf{0.975]}  \\\\\n",
       "\\midrule\n",
       "\\textbf{Intercept}                &       3.0765  &        0.180     &    17.127  &         0.000        &        2.724    &        3.429     \\\\\n",
       "\\textbf{C(doctor\\_name)[T.Lee]}   &       0.3593  &        0.255     &     1.406  &         0.160        &       -0.142    &        0.861     \\\\\n",
       "\\textbf{C(doctor\\_name)[T.Smith]} &       0.7871  &        0.257     &     3.068  &         0.002        &        0.283    &        1.291     \\\\\n",
       "\\textbf{C(doctor\\_name)[T.Wong]}  &       0.3502  &        0.264     &     1.325  &         0.186        &       -0.169    &        0.869     \\\\\n",
       "\\bottomrule\n",
       "\\end{tabular}\n",
       "\\begin{tabular}{lclc}\n",
       "\\textbf{Omnibus:}       & 91.695 & \\textbf{  Durbin-Watson:     } &    1.656  \\\\\n",
       "\\textbf{Prob(Omnibus):} &  0.000 & \\textbf{  Jarque-Bera (JB):  } &  128.389  \\\\\n",
       "\\textbf{Skew:}          &  1.051 & \\textbf{  Prob(JB):          } & 1.32e-28  \\\\\n",
       "\\textbf{Kurtosis:}      &  3.112 & \\textbf{  Cond. No.          } &     4.69  \\\\\n",
       "\\bottomrule\n",
       "\\end{tabular}\n",
       "%\\caption{OLS Regression Results}\n",
       "\\end{center}\n",
       "\n",
       "Notes: \\newline\n",
       " [1] Standard Errors assume that the covariance matrix of the errors is correctly specified."
      ],
      "text/plain": [
       "<class 'statsmodels.iolib.summary.Summary'>\n",
       "\"\"\"\n",
       "                            OLS Regression Results                            \n",
       "==============================================================================\n",
       "Dep. Variable:        bland_chromatin   R-squared:                       0.013\n",
       "Model:                            OLS   Adj. R-squared:                  0.009\n",
       "Method:                 Least Squares   F-statistic:                     3.148\n",
       "Date:                Wed, 28 Feb 2024   Prob (F-statistic):             0.0246\n",
       "Time:                        17:38:23   Log-Likelihood:                -1601.2\n",
       "No. Observations:                 695   AIC:                             3210.\n",
       "Df Residuals:                     691   BIC:                             3229.\n",
       "Df Model:                           3                                         \n",
       "Covariance Type:            nonrobust                                         \n",
       "===========================================================================================\n",
       "                              coef    std err          t      P>|t|      [0.025      0.975]\n",
       "-------------------------------------------------------------------------------------------\n",
       "Intercept                   3.0765      0.180     17.127      0.000       2.724       3.429\n",
       "C(doctor_name)[T.Lee]       0.3593      0.255      1.406      0.160      -0.142       0.861\n",
       "C(doctor_name)[T.Smith]     0.7871      0.257      3.068      0.002       0.283       1.291\n",
       "C(doctor_name)[T.Wong]      0.3502      0.264      1.325      0.186      -0.169       0.869\n",
       "==============================================================================\n",
       "Omnibus:                       91.695   Durbin-Watson:                   1.656\n",
       "Prob(Omnibus):                  0.000   Jarque-Bera (JB):              128.389\n",
       "Skew:                           1.051   Prob(JB):                     1.32e-28\n",
       "Kurtosis:                       3.112   Cond. No.                         4.69\n",
       "==============================================================================\n",
       "\n",
       "Notes:\n",
       "[1] Standard Errors assume that the covariance matrix of the errors is correctly specified.\n",
       "\"\"\""
      ]
     },
     "execution_count": 315,
     "metadata": {},
     "output_type": "execute_result"
    }
   ],
   "source": [
    "from statsmodels.formula.api import ols\n",
    "\n",
    "bland_model = ols('bland_chromatin ~ C(doctor_name)', data = bcd)\n",
    "\n",
    "bland_model.fit().summary()"
   ]
  },
  {
   "cell_type": "code",
   "execution_count": 316,
   "id": "ce297896-6e65-4113-b188-38dd00b397e2",
   "metadata": {
    "tags": []
   },
   "outputs": [
    {
     "data": {
      "text/html": [
       "<table class=\"simpletable\">\n",
       "<caption>OLS Regression Results</caption>\n",
       "<tr>\n",
       "  <th>Dep. Variable:</th>     <td>clump_thickness</td> <th>  R-squared:         </th> <td>   0.010</td>\n",
       "</tr>\n",
       "<tr>\n",
       "  <th>Model:</th>                   <td>OLS</td>       <th>  Adj. R-squared:    </th> <td>   0.006</td>\n",
       "</tr>\n",
       "<tr>\n",
       "  <th>Method:</th>             <td>Least Squares</td>  <th>  F-statistic:       </th> <td>   2.378</td>\n",
       "</tr>\n",
       "<tr>\n",
       "  <th>Date:</th>             <td>Wed, 28 Feb 2024</td> <th>  Prob (F-statistic):</th>  <td>0.0687</td> \n",
       "</tr>\n",
       "<tr>\n",
       "  <th>Time:</th>                 <td>17:39:04</td>     <th>  Log-Likelihood:    </th> <td> -1709.4</td>\n",
       "</tr>\n",
       "<tr>\n",
       "  <th>No. Observations:</th>      <td>   698</td>      <th>  AIC:               </th> <td>   3427.</td>\n",
       "</tr>\n",
       "<tr>\n",
       "  <th>Df Residuals:</th>          <td>   694</td>      <th>  BIC:               </th> <td>   3445.</td>\n",
       "</tr>\n",
       "<tr>\n",
       "  <th>Df Model:</th>              <td>     3</td>      <th>                     </th>     <td> </td>   \n",
       "</tr>\n",
       "<tr>\n",
       "  <th>Covariance Type:</th>      <td>nonrobust</td>    <th>                     </th>     <td> </td>   \n",
       "</tr>\n",
       "</table>\n",
       "<table class=\"simpletable\">\n",
       "<tr>\n",
       "             <td></td>                <th>coef</th>     <th>std err</th>      <th>t</th>      <th>P>|t|</th>  <th>[0.025</th>    <th>0.975]</th>  \n",
       "</tr>\n",
       "<tr>\n",
       "  <th>Intercept</th>               <td>    4.1892</td> <td>    0.207</td> <td>   20.282</td> <td> 0.000</td> <td>    3.784</td> <td>    4.595</td>\n",
       "</tr>\n",
       "<tr>\n",
       "  <th>C(doctor_name)[T.Lee]</th>   <td>   -0.0069</td> <td>    0.294</td> <td>   -0.023</td> <td> 0.981</td> <td>   -0.584</td> <td>    0.570</td>\n",
       "</tr>\n",
       "<tr>\n",
       "  <th>C(doctor_name)[T.Smith]</th> <td>    0.6851</td> <td>    0.296</td> <td>    2.313</td> <td> 0.021</td> <td>    0.103</td> <td>    1.267</td>\n",
       "</tr>\n",
       "<tr>\n",
       "  <th>C(doctor_name)[T.Wong]</th>  <td>    0.2567</td> <td>    0.305</td> <td>    0.842</td> <td> 0.400</td> <td>   -0.342</td> <td>    0.855</td>\n",
       "</tr>\n",
       "</table>\n",
       "<table class=\"simpletable\">\n",
       "<tr>\n",
       "  <th>Omnibus:</th>       <td>57.901</td> <th>  Durbin-Watson:     </th> <td>   1.774</td>\n",
       "</tr>\n",
       "<tr>\n",
       "  <th>Prob(Omnibus):</th> <td> 0.000</td> <th>  Jarque-Bera (JB):  </th> <td>  51.718</td>\n",
       "</tr>\n",
       "<tr>\n",
       "  <th>Skew:</th>          <td> 0.595</td> <th>  Prob(JB):          </th> <td>5.88e-12</td>\n",
       "</tr>\n",
       "<tr>\n",
       "  <th>Kurtosis:</th>      <td> 2.397</td> <th>  Cond. No.          </th> <td>    4.68</td>\n",
       "</tr>\n",
       "</table><br/><br/>Notes:<br/>[1] Standard Errors assume that the covariance matrix of the errors is correctly specified."
      ],
      "text/latex": [
       "\\begin{center}\n",
       "\\begin{tabular}{lclc}\n",
       "\\toprule\n",
       "\\textbf{Dep. Variable:}           & clump\\_thickness & \\textbf{  R-squared:         } &     0.010   \\\\\n",
       "\\textbf{Model:}                   &       OLS        & \\textbf{  Adj. R-squared:    } &     0.006   \\\\\n",
       "\\textbf{Method:}                  &  Least Squares   & \\textbf{  F-statistic:       } &     2.378   \\\\\n",
       "\\textbf{Date:}                    & Wed, 28 Feb 2024 & \\textbf{  Prob (F-statistic):} &   0.0687    \\\\\n",
       "\\textbf{Time:}                    &     17:39:04     & \\textbf{  Log-Likelihood:    } &   -1709.4   \\\\\n",
       "\\textbf{No. Observations:}        &         698      & \\textbf{  AIC:               } &     3427.   \\\\\n",
       "\\textbf{Df Residuals:}            &         694      & \\textbf{  BIC:               } &     3445.   \\\\\n",
       "\\textbf{Df Model:}                &           3      & \\textbf{                     } &             \\\\\n",
       "\\textbf{Covariance Type:}         &    nonrobust     & \\textbf{                     } &             \\\\\n",
       "\\bottomrule\n",
       "\\end{tabular}\n",
       "\\begin{tabular}{lcccccc}\n",
       "                                  & \\textbf{coef} & \\textbf{std err} & \\textbf{t} & \\textbf{P$> |$t$|$} & \\textbf{[0.025} & \\textbf{0.975]}  \\\\\n",
       "\\midrule\n",
       "\\textbf{Intercept}                &       4.1892  &        0.207     &    20.282  &         0.000        &        3.784    &        4.595     \\\\\n",
       "\\textbf{C(doctor\\_name)[T.Lee]}   &      -0.0069  &        0.294     &    -0.023  &         0.981        &       -0.584    &        0.570     \\\\\n",
       "\\textbf{C(doctor\\_name)[T.Smith]} &       0.6851  &        0.296     &     2.313  &         0.021        &        0.103    &        1.267     \\\\\n",
       "\\textbf{C(doctor\\_name)[T.Wong]}  &       0.2567  &        0.305     &     0.842  &         0.400        &       -0.342    &        0.855     \\\\\n",
       "\\bottomrule\n",
       "\\end{tabular}\n",
       "\\begin{tabular}{lclc}\n",
       "\\textbf{Omnibus:}       & 57.901 & \\textbf{  Durbin-Watson:     } &    1.774  \\\\\n",
       "\\textbf{Prob(Omnibus):} &  0.000 & \\textbf{  Jarque-Bera (JB):  } &   51.718  \\\\\n",
       "\\textbf{Skew:}          &  0.595 & \\textbf{  Prob(JB):          } & 5.88e-12  \\\\\n",
       "\\textbf{Kurtosis:}      &  2.397 & \\textbf{  Cond. No.          } &     4.68  \\\\\n",
       "\\bottomrule\n",
       "\\end{tabular}\n",
       "%\\caption{OLS Regression Results}\n",
       "\\end{center}\n",
       "\n",
       "Notes: \\newline\n",
       " [1] Standard Errors assume that the covariance matrix of the errors is correctly specified."
      ],
      "text/plain": [
       "<class 'statsmodels.iolib.summary.Summary'>\n",
       "\"\"\"\n",
       "                            OLS Regression Results                            \n",
       "==============================================================================\n",
       "Dep. Variable:        clump_thickness   R-squared:                       0.010\n",
       "Model:                            OLS   Adj. R-squared:                  0.006\n",
       "Method:                 Least Squares   F-statistic:                     2.378\n",
       "Date:                Wed, 28 Feb 2024   Prob (F-statistic):             0.0687\n",
       "Time:                        17:39:04   Log-Likelihood:                -1709.4\n",
       "No. Observations:                 698   AIC:                             3427.\n",
       "Df Residuals:                     694   BIC:                             3445.\n",
       "Df Model:                           3                                         \n",
       "Covariance Type:            nonrobust                                         \n",
       "===========================================================================================\n",
       "                              coef    std err          t      P>|t|      [0.025      0.975]\n",
       "-------------------------------------------------------------------------------------------\n",
       "Intercept                   4.1892      0.207     20.282      0.000       3.784       4.595\n",
       "C(doctor_name)[T.Lee]      -0.0069      0.294     -0.023      0.981      -0.584       0.570\n",
       "C(doctor_name)[T.Smith]     0.6851      0.296      2.313      0.021       0.103       1.267\n",
       "C(doctor_name)[T.Wong]      0.2567      0.305      0.842      0.400      -0.342       0.855\n",
       "==============================================================================\n",
       "Omnibus:                       57.901   Durbin-Watson:                   1.774\n",
       "Prob(Omnibus):                  0.000   Jarque-Bera (JB):               51.718\n",
       "Skew:                           0.595   Prob(JB):                     5.88e-12\n",
       "Kurtosis:                       2.397   Cond. No.                         4.68\n",
       "==============================================================================\n",
       "\n",
       "Notes:\n",
       "[1] Standard Errors assume that the covariance matrix of the errors is correctly specified.\n",
       "\"\"\""
      ]
     },
     "execution_count": 316,
     "metadata": {},
     "output_type": "execute_result"
    }
   ],
   "source": [
    "thi_model = ols('clump_thickness ~ C(doctor_name)', data = bcd)\n",
    "\n",
    "thi_model.fit().summary()"
   ]
  },
  {
   "cell_type": "code",
   "execution_count": 313,
   "id": "9bbfc88d-6bdc-4fb0-9004-124ad7c37a9a",
   "metadata": {
    "tags": []
   },
   "outputs": [
    {
     "name": "stdout",
     "output_type": "stream",
     "text": [
      "Optimization terminated successfully.\n",
      "         Current function value: 0.639833\n",
      "         Iterations 5\n"
     ]
    },
    {
     "data": {
      "text/html": [
       "<table class=\"simpletable\">\n",
       "<caption>Logit Regression Results</caption>\n",
       "<tr>\n",
       "  <th>Dep. Variable:</th>         <td>code</td>       <th>  No. Observations:  </th>  <td>   699</td> \n",
       "</tr>\n",
       "<tr>\n",
       "  <th>Model:</th>                 <td>Logit</td>      <th>  Df Residuals:      </th>  <td>   695</td> \n",
       "</tr>\n",
       "<tr>\n",
       "  <th>Method:</th>                 <td>MLE</td>       <th>  Df Model:          </th>  <td>     3</td> \n",
       "</tr>\n",
       "<tr>\n",
       "  <th>Date:</th>            <td>Wed, 28 Feb 2024</td> <th>  Pseudo R-squ.:     </th> <td>0.006708</td>\n",
       "</tr>\n",
       "<tr>\n",
       "  <th>Time:</th>                <td>17:27:57</td>     <th>  Log-Likelihood:    </th> <td> -447.24</td>\n",
       "</tr>\n",
       "<tr>\n",
       "  <th>converged:</th>             <td>True</td>       <th>  LL-Null:           </th> <td> -450.26</td>\n",
       "</tr>\n",
       "<tr>\n",
       "  <th>Covariance Type:</th>     <td>nonrobust</td>    <th>  LLR p-value:       </th>  <td>0.1096</td> \n",
       "</tr>\n",
       "</table>\n",
       "<table class=\"simpletable\">\n",
       "<tr>\n",
       "             <td></td>                <th>coef</th>     <th>std err</th>      <th>z</th>      <th>P>|z|</th>  <th>[0.025</th>    <th>0.975]</th>  \n",
       "</tr>\n",
       "<tr>\n",
       "  <th>Intercept</th>               <td>   -0.7837</td> <td>    0.158</td> <td>   -4.945</td> <td> 0.000</td> <td>   -1.094</td> <td>   -0.473</td>\n",
       "</tr>\n",
       "<tr>\n",
       "  <th>C(doctor_name)[T.Lee]</th>   <td>    0.0823</td> <td>    0.224</td> <td>    0.368</td> <td> 0.713</td> <td>   -0.356</td> <td>    0.521</td>\n",
       "</tr>\n",
       "<tr>\n",
       "  <th>C(doctor_name)[T.Smith]</th> <td>    0.4628</td> <td>    0.220</td> <td>    2.103</td> <td> 0.035</td> <td>    0.031</td> <td>    0.894</td>\n",
       "</tr>\n",
       "<tr>\n",
       "  <th>C(doctor_name)[T.Wong]</th>  <td>   -0.0066</td> <td>    0.234</td> <td>   -0.028</td> <td> 0.978</td> <td>   -0.465</td> <td>    0.452</td>\n",
       "</tr>\n",
       "</table>"
      ],
      "text/latex": [
       "\\begin{center}\n",
       "\\begin{tabular}{lclc}\n",
       "\\toprule\n",
       "\\textbf{Dep. Variable:}           &       code       & \\textbf{  No. Observations:  } &      699    \\\\\n",
       "\\textbf{Model:}                   &      Logit       & \\textbf{  Df Residuals:      } &      695    \\\\\n",
       "\\textbf{Method:}                  &       MLE        & \\textbf{  Df Model:          } &        3    \\\\\n",
       "\\textbf{Date:}                    & Wed, 28 Feb 2024 & \\textbf{  Pseudo R-squ.:     } &  0.006708   \\\\\n",
       "\\textbf{Time:}                    &     17:27:57     & \\textbf{  Log-Likelihood:    } &   -447.24   \\\\\n",
       "\\textbf{converged:}               &       True       & \\textbf{  LL-Null:           } &   -450.26   \\\\\n",
       "\\textbf{Covariance Type:}         &    nonrobust     & \\textbf{  LLR p-value:       } &   0.1096    \\\\\n",
       "\\bottomrule\n",
       "\\end{tabular}\n",
       "\\begin{tabular}{lcccccc}\n",
       "                                  & \\textbf{coef} & \\textbf{std err} & \\textbf{z} & \\textbf{P$> |$z$|$} & \\textbf{[0.025} & \\textbf{0.975]}  \\\\\n",
       "\\midrule\n",
       "\\textbf{Intercept}                &      -0.7837  &        0.158     &    -4.945  &         0.000        &       -1.094    &       -0.473     \\\\\n",
       "\\textbf{C(doctor\\_name)[T.Lee]}   &       0.0823  &        0.224     &     0.368  &         0.713        &       -0.356    &        0.521     \\\\\n",
       "\\textbf{C(doctor\\_name)[T.Smith]} &       0.4628  &        0.220     &     2.103  &         0.035        &        0.031    &        0.894     \\\\\n",
       "\\textbf{C(doctor\\_name)[T.Wong]}  &      -0.0066  &        0.234     &    -0.028  &         0.978        &       -0.465    &        0.452     \\\\\n",
       "\\bottomrule\n",
       "\\end{tabular}\n",
       "%\\caption{Logit Regression Results}\n",
       "\\end{center}"
      ],
      "text/plain": [
       "<class 'statsmodels.iolib.summary.Summary'>\n",
       "\"\"\"\n",
       "                           Logit Regression Results                           \n",
       "==============================================================================\n",
       "Dep. Variable:                   code   No. Observations:                  699\n",
       "Model:                          Logit   Df Residuals:                      695\n",
       "Method:                           MLE   Df Model:                            3\n",
       "Date:                Wed, 28 Feb 2024   Pseudo R-squ.:                0.006708\n",
       "Time:                        17:27:57   Log-Likelihood:                -447.24\n",
       "converged:                       True   LL-Null:                       -450.26\n",
       "Covariance Type:            nonrobust   LLR p-value:                    0.1096\n",
       "===========================================================================================\n",
       "                              coef    std err          z      P>|z|      [0.025      0.975]\n",
       "-------------------------------------------------------------------------------------------\n",
       "Intercept                  -0.7837      0.158     -4.945      0.000      -1.094      -0.473\n",
       "C(doctor_name)[T.Lee]       0.0823      0.224      0.368      0.713      -0.356       0.521\n",
       "C(doctor_name)[T.Smith]     0.4628      0.220      2.103      0.035       0.031       0.894\n",
       "C(doctor_name)[T.Wong]     -0.0066      0.234     -0.028      0.978      -0.465       0.452\n",
       "===========================================================================================\n",
       "\"\"\""
      ]
     },
     "execution_count": 313,
     "metadata": {},
     "output_type": "execute_result"
    }
   ],
   "source": [
    "import statsmodels.formula.api as smf\n",
    "\n",
    "log_mod = smf.logit('code ~ C(doctor_name)', data = bcd).fit()\n",
    "log_mod.summary()"
   ]
  },
  {
   "cell_type": "code",
   "execution_count": null,
   "id": "0aa52bf3-04f4-4d2d-a306-bcb8db2b04ed",
   "metadata": {},
   "outputs": [],
   "source": [
    "bcd['code'] = [0]*699\n",
    "bcd.loc[bcd['class'] == 'malignant', 'code'] = 1\n",
    "#bcd"
   ]
  },
  {
   "cell_type": "code",
   "execution_count": 317,
   "id": "f9cd4362-96e4-43f7-955b-331714c46c52",
   "metadata": {
    "tags": []
   },
   "outputs": [
    {
     "data": {
      "text/plain": [
       "array([[-0.13163924, -0.05138314,  0.32042963, -0.13742827]])"
      ]
     },
     "execution_count": 317,
     "metadata": {},
     "output_type": "execute_result"
    }
   ],
   "source": [
    "from sklearn.linear_model import LogisticRegression\n",
    "\n",
    "bcd['code'] = [0]*699\n",
    "bcd.loc[bcd['class'] == 'malignant', 'code'] = 1\n",
    "bcd_dum = pd.get_dummies(bcd, columns = ['doctor_name'])\n",
    "\n",
    "y = bcd['code']\n",
    "#y = np.asarray(y)\n",
    "x = bcd_dum.drop(['clump_thickness','bland_chromatin','class', 'code'], axis = 1)\n",
    "#x = np.asarray(x)\n",
    "\n",
    "model = LogisticRegression()\n",
    "log_mod = model.fit(x,y)\n",
    "log_mod.coef_"
   ]
  }
 ],
 "metadata": {
  "kernelspec": {
   "display_name": "Python 3 (ipykernel)",
   "language": "python",
   "name": "python3"
  },
  "language_info": {
   "codemirror_mode": {
    "name": "ipython",
    "version": 3
   },
   "file_extension": ".py",
   "mimetype": "text/x-python",
   "name": "python",
   "nbconvert_exporter": "python",
   "pygments_lexer": "ipython3",
   "version": "3.11.4"
  }
 },
 "nbformat": 4,
 "nbformat_minor": 5
}
